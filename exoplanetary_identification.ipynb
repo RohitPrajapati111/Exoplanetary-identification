{
  "nbformat": 4,
  "nbformat_minor": 0,
  "metadata": {
    "colab": {
      "provenance": [],
      "mount_file_id": "1sDxcSRpmHCqPc_5FPJeJYsCIZ1pPqYJ9",
      "authorship_tag": "ABX9TyPyUlGMWbFigyIIGEbSPZEz",
      "include_colab_link": true
    },
    "kernelspec": {
      "name": "python3",
      "display_name": "Python 3"
    },
    "language_info": {
      "name": "python"
    }
  },
  "cells": [
    {
      "cell_type": "markdown",
      "metadata": {
        "id": "view-in-github",
        "colab_type": "text"
      },
      "source": [
        "<a href=\"https://colab.research.google.com/github/RohitPrajapati111/Exoplanetary-identification/blob/main/exoplanetary_identification.ipynb\" target=\"_parent\"><img src=\"https://colab.research.google.com/assets/colab-badge.svg\" alt=\"Open In Colab\"/></a>"
      ]
    },
    {
      "cell_type": "markdown",
      "source": [
        "#part 2"
      ],
      "metadata": {
        "id": "a7SriRtEpGk9"
      }
    },
    {
      "cell_type": "code",
      "source": [
        "!pip install -U imbalanced-learn\n"
      ],
      "metadata": {
        "colab": {
          "base_uri": "https://localhost:8080/"
        },
        "id": "NGmuG9-7pTtl",
        "outputId": "5360a491-1ee4-4f5a-a5a0-99e4cd7f4615"
      },
      "execution_count": 2,
      "outputs": [
        {
          "output_type": "stream",
          "name": "stdout",
          "text": [
            "Requirement already satisfied: imbalanced-learn in /usr/local/lib/python3.12/dist-packages (0.14.0)\n",
            "Requirement already satisfied: numpy<3,>=1.25.2 in /usr/local/lib/python3.12/dist-packages (from imbalanced-learn) (2.0.2)\n",
            "Requirement already satisfied: scipy<2,>=1.11.4 in /usr/local/lib/python3.12/dist-packages (from imbalanced-learn) (1.16.2)\n",
            "Requirement already satisfied: scikit-learn<2,>=1.4.2 in /usr/local/lib/python3.12/dist-packages (from imbalanced-learn) (1.6.1)\n",
            "Requirement already satisfied: joblib<2,>=1.2.0 in /usr/local/lib/python3.12/dist-packages (from imbalanced-learn) (1.5.2)\n",
            "Requirement already satisfied: threadpoolctl<4,>=2.0.0 in /usr/local/lib/python3.12/dist-packages (from imbalanced-learn) (3.6.0)\n"
          ]
        }
      ]
    },
    {
      "cell_type": "code",
      "source": [
        "import pandas as pd\n",
        "import numpy as np\n",
        "from sklearn.model_selection import train_test_split\n",
        "from sklearn.ensemble import RandomForestClassifier\n",
        "from sklearn.metrics import accuracy_score, precision_score, recall_score, f1_score, roc_auc_score, confusion_matrix\n",
        "from sklearn.preprocessing import StandardScaler\n",
        "from sklearn.impute import SimpleImputer\n",
        "from imblearn.over_sampling import SMOTE\n",
        "import matplotlib.pyplot as plt\n",
        "import seaborn as sns\n",
        "\n",
        "# loading of kepler exoplanet data\n",
        "kepler_df = pd.read_csv('/content/cumulative_2025.10.03_22.27.36.csv', skiprows=53)\n",
        "\n",
        "# Displaying of first data\n",
        "print(kepler_df.head())\n",
        "print(kepler_df.info())"
      ],
      "metadata": {
        "colab": {
          "base_uri": "https://localhost:8080/"
        },
        "id": "2KduZ5eopIAL",
        "outputId": "2b39d7a2-4190-4995-8dd8-b92784dc0df0"
      },
      "execution_count": 4,
      "outputs": [
        {
          "output_type": "stream",
          "name": "stdout",
          "text": [
            "      kepid kepoi_name   kepler_name koi_disposition koi_pdisposition  \\\n",
            "0  10797460  K00752.01  Kepler-227 b       CONFIRMED        CANDIDATE   \n",
            "1  10797460  K00752.02  Kepler-227 c       CONFIRMED        CANDIDATE   \n",
            "2  10811496  K00753.01           NaN       CANDIDATE        CANDIDATE   \n",
            "3  10848459  K00754.01           NaN  FALSE POSITIVE   FALSE POSITIVE   \n",
            "4  10854555  K00755.01  Kepler-664 b       CONFIRMED        CANDIDATE   \n",
            "\n",
            "   koi_score  koi_fpflag_nt  koi_fpflag_ss  koi_fpflag_co  koi_fpflag_ec  ...  \\\n",
            "0      1.000              0              0              0              0  ...   \n",
            "1      0.969              0              0              0              0  ...   \n",
            "2      0.000              0              0              0              0  ...   \n",
            "3      0.000              0              1              0              0  ...   \n",
            "4      1.000              0              0              0              0  ...   \n",
            "\n",
            "   koi_steff_err2  koi_slogg  koi_slogg_err1  koi_slogg_err2  koi_srad  \\\n",
            "0           -81.0      4.467           0.064          -0.096     0.927   \n",
            "1           -81.0      4.467           0.064          -0.096     0.927   \n",
            "2          -176.0      4.544           0.044          -0.176     0.868   \n",
            "3          -174.0      4.564           0.053          -0.168     0.791   \n",
            "4          -211.0      4.438           0.070          -0.210     1.046   \n",
            "\n",
            "   koi_srad_err1  koi_srad_err2         ra        dec  koi_kepmag  \n",
            "0          0.105         -0.061  291.93423  48.141651      15.347  \n",
            "1          0.105         -0.061  291.93423  48.141651      15.347  \n",
            "2          0.233         -0.078  297.00482  48.134129      15.436  \n",
            "3          0.201         -0.067  285.53461  48.285210      15.597  \n",
            "4          0.334         -0.133  288.75488  48.226200      15.509  \n",
            "\n",
            "[5 rows x 49 columns]\n",
            "<class 'pandas.core.frame.DataFrame'>\n",
            "RangeIndex: 9564 entries, 0 to 9563\n",
            "Data columns (total 49 columns):\n",
            " #   Column             Non-Null Count  Dtype  \n",
            "---  ------             --------------  -----  \n",
            " 0   kepid              9564 non-null   int64  \n",
            " 1   kepoi_name         9564 non-null   object \n",
            " 2   kepler_name        2747 non-null   object \n",
            " 3   koi_disposition    9564 non-null   object \n",
            " 4   koi_pdisposition   9564 non-null   object \n",
            " 5   koi_score          8054 non-null   float64\n",
            " 6   koi_fpflag_nt      9564 non-null   int64  \n",
            " 7   koi_fpflag_ss      9564 non-null   int64  \n",
            " 8   koi_fpflag_co      9564 non-null   int64  \n",
            " 9   koi_fpflag_ec      9564 non-null   int64  \n",
            " 10  koi_period         9564 non-null   float64\n",
            " 11  koi_period_err1    9110 non-null   float64\n",
            " 12  koi_period_err2    9110 non-null   float64\n",
            " 13  koi_time0bk        9564 non-null   float64\n",
            " 14  koi_time0bk_err1   9110 non-null   float64\n",
            " 15  koi_time0bk_err2   9110 non-null   float64\n",
            " 16  koi_impact         9201 non-null   float64\n",
            " 17  koi_impact_err1    9110 non-null   float64\n",
            " 18  koi_impact_err2    9110 non-null   float64\n",
            " 19  koi_duration       9564 non-null   float64\n",
            " 20  koi_duration_err1  9110 non-null   float64\n",
            " 21  koi_duration_err2  9110 non-null   float64\n",
            " 22  koi_depth          9201 non-null   float64\n",
            " 23  koi_depth_err1     9110 non-null   float64\n",
            " 24  koi_depth_err2     9110 non-null   float64\n",
            " 25  koi_prad           9201 non-null   float64\n",
            " 26  koi_prad_err1      9201 non-null   float64\n",
            " 27  koi_prad_err2      9201 non-null   float64\n",
            " 28  koi_teq            9201 non-null   float64\n",
            " 29  koi_teq_err1       0 non-null      float64\n",
            " 30  koi_teq_err2       0 non-null      float64\n",
            " 31  koi_insol          9243 non-null   float64\n",
            " 32  koi_insol_err1     9243 non-null   float64\n",
            " 33  koi_insol_err2     9243 non-null   float64\n",
            " 34  koi_model_snr      9201 non-null   float64\n",
            " 35  koi_tce_plnt_num   9218 non-null   float64\n",
            " 36  koi_tce_delivname  9218 non-null   object \n",
            " 37  koi_steff          9201 non-null   float64\n",
            " 38  koi_steff_err1     9096 non-null   float64\n",
            " 39  koi_steff_err2     9081 non-null   float64\n",
            " 40  koi_slogg          9201 non-null   float64\n",
            " 41  koi_slogg_err1     9096 non-null   float64\n",
            " 42  koi_slogg_err2     9096 non-null   float64\n",
            " 43  koi_srad           9201 non-null   float64\n",
            " 44  koi_srad_err1      9096 non-null   float64\n",
            " 45  koi_srad_err2      9096 non-null   float64\n",
            " 46  ra                 9564 non-null   float64\n",
            " 47  dec                9564 non-null   float64\n",
            " 48  koi_kepmag         9563 non-null   float64\n",
            "dtypes: float64(39), int64(5), object(5)\n",
            "memory usage: 3.6+ MB\n",
            "None\n"
          ]
        }
      ]
    },
    {
      "cell_type": "markdown",
      "source": [
        "#Data Prepocessing Steps"
      ],
      "metadata": {
        "id": "FfB6GzU7qSfF"
      }
    },
    {
      "cell_type": "code",
      "source": [
        "# for exoplanet being candidate value -> 1 else being false candidate -> 0\n",
        "kepler_df['Exoplanet_Flag'] = kepler_df['koi_disposition'].apply(\n",
        "    lambda x: 1 if x in ['CONFIRMED', 'CANDIDATE'] else 0\n",
        ")\n",
        "\n",
        "y = kepler_df['Exoplanet_Flag'] #Target variable y\n",
        "print(f\"Total number of entries: {len(y)}\")\n",
        "print(\"Class Distribution:\\n\", y.value_counts())\n",
        "print(f\"Percentage of 'Exoplanet being true' (1) class: {y.value_counts()[1] / len(y) * 100:.2f}%\")"
      ],
      "metadata": {
        "colab": {
          "base_uri": "https://localhost:8080/"
        },
        "id": "UkNHf2j9p3AI",
        "outputId": "4c30b042-6808-48b5-da52-934bbb668374"
      },
      "execution_count": 17,
      "outputs": [
        {
          "output_type": "stream",
          "name": "stdout",
          "text": [
            "Total number of entries: 9564\n",
            "Class Distribution:\n",
            " Exoplanet_Flag\n",
            "0    4839\n",
            "1    4725\n",
            "Name: count, dtype: int64\n",
            "Percentage of 'Exoplanet being true' (1) class: 49.40%\n"
          ]
        }
      ]
    },
    {
      "cell_type": "markdown",
      "source": [
        "#feature selection\n",
        "here we will drop colums with null value and select most prominent values"
      ],
      "metadata": {
        "id": "9No68xGRqpGX"
      }
    },
    {
      "cell_type": "code",
      "source": [
        "#Define Features as (X)\n",
        "# Error columns and null value columns not taken.\n",
        "features = [\n",
        "    # False Positive Flags (Binary - Very predictive)\n",
        "    'koi_fpflag_nt', 'koi_fpflag_ss', 'koi_fpflag_co', 'koi_fpflag_ec',\n",
        "    # Orbital and Transit Parameters\n",
        "    'koi_period', 'koi_time0bk', 'koi_impact', 'koi_duration',\n",
        "    'koi_depth', 'koi_prad', 'koi_teq', 'koi_insol', 'koi_model_snr',\n",
        "    # Stellar Parameters\n",
        "    'koi_steff', 'koi_slogg', 'koi_srad', 'koi_kepmag',\n",
        "    # Stellar Coordinates\n",
        "    'ra', 'dec'\n",
        "]\n",
        "\n",
        "X = kepler_df[features]\n",
        "print(X)"
      ],
      "metadata": {
        "colab": {
          "base_uri": "https://localhost:8080/"
        },
        "id": "bdkgyPNKqbhw",
        "outputId": "806a776a-ca6f-47e0-d601-ba409068ecbe"
      },
      "execution_count": 18,
      "outputs": [
        {
          "output_type": "stream",
          "name": "stdout",
          "text": [
            "      koi_fpflag_nt  koi_fpflag_ss  koi_fpflag_co  koi_fpflag_ec  koi_period  \\\n",
            "0                 0              0              0              0    9.488036   \n",
            "1                 0              0              0              0   54.418383   \n",
            "2                 0              0              0              0   19.899140   \n",
            "3                 0              1              0              0    1.736952   \n",
            "4                 0              0              0              0    2.525592   \n",
            "...             ...            ...            ...            ...         ...   \n",
            "9559              0              1              1              0    0.527699   \n",
            "9560              0              0              0              0    1.739849   \n",
            "9561              0              0              1              0    0.681402   \n",
            "9562              0              0              0              0  333.486169   \n",
            "9563              0              0              1              1    4.856035   \n",
            "\n",
            "      koi_time0bk  koi_impact  koi_duration  koi_depth  koi_prad  koi_teq  \\\n",
            "0      170.538750       0.146       2.95750      615.8      2.26    793.0   \n",
            "1      162.513840       0.586       4.50700      874.8      2.83    443.0   \n",
            "2      175.850252       0.969       1.78220    10829.0     14.60    638.0   \n",
            "3      170.307565       1.276       2.40641     8079.2     33.46   1395.0   \n",
            "4      171.595550       0.701       1.65450      603.3      2.75   1406.0   \n",
            "...           ...         ...           ...        ...       ...      ...   \n",
            "9559   131.705093       1.252       3.22210     1579.2     29.35   2088.0   \n",
            "9560   133.001270       0.043       3.11400       48.5      0.72   1608.0   \n",
            "9561   132.181750       0.147       0.86500      103.6      1.07   2218.0   \n",
            "9562   153.615010       0.214       3.19900      639.1     19.30    557.0   \n",
            "9563   135.993300       0.134       3.07800       76.7      1.05   1266.0   \n",
            "\n",
            "      koi_insol  koi_model_snr  koi_steff  koi_slogg  koi_srad  koi_kepmag  \\\n",
            "0         93.59           35.8     5455.0      4.467     0.927      15.347   \n",
            "1          9.11           25.8     5455.0      4.467     0.927      15.347   \n",
            "2         39.30           76.3     5853.0      4.544     0.868      15.436   \n",
            "3        891.96          505.6     5805.0      4.564     0.791      15.597   \n",
            "4        926.16           40.9     6031.0      4.438     1.046      15.509   \n",
            "...         ...            ...        ...        ...       ...         ...   \n",
            "9559    4500.53          453.3     5638.0      4.529     0.903      14.082   \n",
            "9560    1585.81           10.6     6119.0      4.444     1.031      14.757   \n",
            "9561    5713.41           12.3     6173.0      4.447     1.041      15.385   \n",
            "9562      22.68           14.0     4989.0      2.992     7.824      10.998   \n",
            "9563     607.42            8.2     6469.0      4.385     1.193      14.826   \n",
            "\n",
            "             ra        dec  \n",
            "0     291.93423  48.141651  \n",
            "1     291.93423  48.141651  \n",
            "2     297.00482  48.134129  \n",
            "3     285.53461  48.285210  \n",
            "4     288.75488  48.226200  \n",
            "...         ...        ...  \n",
            "9559  297.18875  47.093819  \n",
            "9560  286.50937  47.163219  \n",
            "9561  294.16489  47.176281  \n",
            "9562  296.76288  47.145142  \n",
            "9563  297.00977  47.121021  \n",
            "\n",
            "[9564 rows x 19 columns]\n"
          ]
        }
      ]
    },
    {
      "cell_type": "markdown",
      "source": [
        "#handling of missing values"
      ],
      "metadata": {
        "id": "s5BnvJqrrQ-M"
      }
    },
    {
      "cell_type": "code",
      "source": [
        "#handling missing value by putting median value of that column\n",
        "imputer = SimpleImputer(strategy='median')\n",
        "X_imputed = imputer.fit_transform(X)\n",
        "X_imputed_df = pd.DataFrame(X_imputed, columns=X.columns)\n",
        "\n",
        "\n",
        "scaler = StandardScaler()  #normalization to 0 and 1\n",
        "X_scaled = scaler.fit_transform(X_imputed_df)\n",
        "X_scaled_df = pd.DataFrame(X_scaled, columns=X.columns)"
      ],
      "metadata": {
        "id": "n01oyTbzq5gl"
      },
      "execution_count": 9,
      "outputs": []
    },
    {
      "cell_type": "markdown",
      "source": [
        "#Train and Test split"
      ],
      "metadata": {
        "id": "RA6zypG4rjMB"
      }
    },
    {
      "cell_type": "code",
      "source": [
        "X_train, X_test, y_train, y_test = train_test_split(\n",
        "    X_scaled_df, y, test_size=0.3, random_state=42, stratify=y\n",
        ")\n",
        "print(f\"\\nTraining data size: {len(X_train)} samples\")\n",
        "print(f\"Test data size: {len(X_test)} samples\")"
      ],
      "metadata": {
        "colab": {
          "base_uri": "https://localhost:8080/"
        },
        "id": "D3TUjw3mrdyS",
        "outputId": "4acda63f-2ad3-4daa-c796-99e91184d981"
      },
      "execution_count": 20,
      "outputs": [
        {
          "output_type": "stream",
          "name": "stdout",
          "text": [
            "\n",
            "Training data size: 6694 samples\n",
            "Test data size: 2870 samples\n"
          ]
        }
      ]
    },
    {
      "cell_type": "code",
      "source": [
        "import joblib\n",
        "\n",
        "# Model Training\n",
        "model = RandomForestClassifier(n_estimators=100, random_state=42, class_weight='balanced', n_jobs=-1)\n",
        "model.fit(X_train, y_train)\n",
        "\n",
        "# Model Evaluation\n",
        "y_pred = model.predict(X_test)\n",
        "y_prob = model.predict_proba(X_test)[:, 1]\n",
        "\n",
        "# Calculate metrics\n",
        "accuracy = accuracy_score(y_test, y_pred)\n",
        "precision = precision_score(y_test, y_pred)\n",
        "recall = recall_score(y_test, y_pred)\n",
        "f1 = f1_score(y_test, y_pred)\n",
        "auc_roc = roc_auc_score(y_test, y_prob)\n",
        "\n",
        "print(\"--- Classification Metrics (Random Forest) ---\")\n",
        "print(f\"Accuracy: {accuracy:.4f}\")\n",
        "print(f\"Precision: {precision:.4f}\")\n",
        "print(f\"Recall: {recall:.4f}\")\n",
        "print(f\"F1-Score: {f1:.4f}\")\n",
        "print(f\"AUC-ROC: {auc_roc:.4f}\")\n",
        "\n",
        "\n",
        "# Confusion Matrix\n",
        "cm = confusion_matrix(y_test, y_pred)\n",
        "plt.figure(figsize=(6, 5))\n",
        "sns.heatmap(cm, annot=True, fmt='d', cmap='Blues',\n",
        "            xticklabels=['False Positive (0)', 'Exoplanet (1)'],\n",
        "            yticklabels=['False Positive (0)', 'Exoplanet (1)'])\n",
        "plt.title('Confusion Matrix')\n",
        "plt.ylabel('Actual Label')\n",
        "plt.xlabel('Predicted Label')\n",
        "plt.savefig('confusion_matrix.png')\n",
        "\n",
        "# Feature Importance\n",
        "feature_importances = pd.Series(model.feature_importances_, index=X_train.columns)\n",
        "feature_importances = feature_importances.sort_values(ascending=False)\n",
        "\n",
        "plt.figure(figsize=(10, 6))\n",
        "feature_importances.plot(kind='bar')\n",
        "plt.title('Feature Importance from Random Forest')\n",
        "plt.ylabel('Importance Score')\n",
        "plt.xlabel('Feature')\n",
        "plt.xticks(rotation=45, ha='right')\n",
        "plt.tight_layout()\n",
        "plt.savefig('feature_importance.png')\n",
        "\n",
        "# Save model components for future deployment\n",
        "joblib.dump(model, 'random_forest_model.pkl')\n",
        "print(\"\\nModel saved as random_forest_model.pkl.\")"
      ],
      "metadata": {
        "colab": {
          "base_uri": "https://localhost:8080/",
          "height": 1000
        },
        "id": "-G1h-tcurny2",
        "outputId": "87ae0bb7-379b-4c77-a684-1831cc7ef818"
      },
      "execution_count": 21,
      "outputs": [
        {
          "output_type": "stream",
          "name": "stdout",
          "text": [
            "--- Classification Metrics (Random Forest) ---\n",
            "Accuracy: 0.9909\n",
            "Precision: 0.9874\n",
            "Recall: 0.9944\n",
            "F1-Score: 0.9909\n",
            "AUC-ROC: 0.9984\n",
            "\n",
            "Model saved as random_forest_model.pkl.\n"
          ]
        },
        {
          "output_type": "display_data",
          "data": {
            "text/plain": [
              "<Figure size 600x500 with 2 Axes>"
            ],
            "image/png": "[encoded data removed]"
          },
          "metadata": {}
        },
        {
          "output_type": "display_data",
          "data": {
            "text/plain": [
              "<Figure size 1000x600 with 1 Axes>"
            ],
            "image/png": "[encoded data removed]"
          },
          "metadata": {}
        }
      ]
    },
    {
      "cell_type": "code",
      "source": [
        "import pandas as pd\n",
        "from sklearn.metrics import accuracy_score, precision_score, recall_score, f1_score\n",
        "from sklearn.preprocessing import StandardScaler\n",
        "from sklearn.impute import SimpleImputer\n",
        "from sklearn.ensemble import RandomForestClassifier\n",
        "\n",
        "# redefining enviornment to make ensure preprocessor are ok\n",
        "\n",
        "# Define the 13 features used in the transferable model\n",
        "KEPLER_FEATURES_13 = [\n",
        "    'koi_period', 'koi_time0bk', 'koi_duration', 'koi_depth', 'koi_prad',\n",
        "    'koi_teq', 'koi_insol', 'koi_steff', 'koi_slogg', 'koi_srad',\n",
        "    'ra', 'dec', 'koi_kepmag'\n",
        "]\n",
        "\n",
        "# TESS feature map to match Kepler names\n",
        "TESS_FEATURE_MAP = {\n",
        "    'pl_orbper': 'koi_period', 'pl_tranmid': 'koi_time0bk', 'pl_trandurh': 'koi_duration',\n",
        "    'pl_trandep': 'koi_depth', 'pl_rade': 'koi_prad', 'pl_eqt': 'koi_teq',\n",
        "    'pl_insol': 'koi_insol', 'st_teff': 'koi_steff', 'st_logg': 'koi_slogg',\n",
        "    'st_rad': 'koi_srad', 'st_tmag': 'koi_kepmag', 'ra': 'ra', 'dec': 'dec'\n",
        "}\n",
        "TESS_COLUMNS_RAW = list(TESS_FEATURE_MAP.keys())\n",
        "\n",
        "# --- Re-run Kepler training setup to define imputer, scaler, and model_transfer ---\n",
        "kepler_df = pd.read_csv('/content/cumulative_2025.10.03_22.27.36.csv', skiprows=53)\n",
        "kepler_df['Exoplanet_Flag'] = kepler_df['koi_disposition'].apply(\n",
        "    lambda x: 1 if x in ['CONFIRMED', 'CANDIDATE'] else 0\n",
        ")\n",
        "y_kepler = kepler_df['Exoplanet_Flag']\n",
        "X_kepler = kepler_df[KEPLER_FEATURES_13]\n",
        "\n",
        "imputer = SimpleImputer(strategy='median')\n",
        "X_kepler_imputed = imputer.fit_transform(X_kepler)\n",
        "scaler = StandardScaler()\n",
        "scaler.fit(X_kepler_imputed) # Fit scaler only once on the training data\n",
        "\n",
        "model_transfer = RandomForestClassifier(n_estimators=100, random_state=42, class_weight='balanced', n_jobs=-1)\n",
        "model_transfer.fit(scaler.transform(X_kepler_imputed), y_kepler)\n",
        "\n",
        "\n",
        "\n",
        "#tess data loading\n",
        "tess_df = pd.read_csv('/content/TOI_2025.10.03_22.52.17.csv', skiprows=69)\n",
        "\n",
        "# Select TESS raw columns and rename them according to feature map\n",
        "X_tess = tess_df[TESS_COLUMNS_RAW].rename(columns=TESS_FEATURE_MAP)\n",
        "\n",
        "# making tess dataframe exactly in same order as in keplers\n",
        "X_tess = X_tess[KEPLER_FEATURES_13]\n",
        "\n",
        "# Apply Imputation (using Kepler medians)\n",
        "X_tess_imputed = imputer.transform(X_tess)\n",
        "\n",
        "X_tess_scaled = scaler.transform(X_tess_imputed)\n",
        "X_tess_scaled_df = pd.DataFrame(X_tess_scaled, columns=KEPLER_FEATURES_13)\n",
        "print(\"\\nTESS data preprocessing steps are completed.\")"
      ],
      "metadata": {
        "colab": {
          "base_uri": "https://localhost:8080/"
        },
        "id": "M8UsmOr-sWMq",
        "outputId": "1ffd5d68-2c3c-4bc8-db72-d73fb5d4724a"
      },
      "execution_count": 23,
      "outputs": [
        {
          "output_type": "stream",
          "name": "stdout",
          "text": [
            "\n",
            "TESS data preprocessing steps are completed.\n"
          ]
        }
      ]
    },
    {
      "cell_type": "code",
      "source": [
        "# making exoplanet predictions\n",
        "tess_predictions = model_transfer.predict(X_tess_scaled_df)\n",
        "tess_df['Exoplanet_Prediction'] = tess_predictions\n",
        "\n",
        "# Define TESS Ground Truth (Y_tess)\n",
        "# CP (Confirmed), PC (Candidate), KP (Known Planet) -> 1 (Exoplanet)\n",
        "# FP (False Positive) -> 0 (Not Exoplanet)\n",
        "tess_df['TESS_Flag'] = tess_df['tfopwg_disp'].apply(\n",
        "    lambda x: 1 if x in ['CP', 'PC', 'KP'] else 0\n",
        ")\n",
        "\n",
        "y_tess_true = tess_df['TESS_Flag']\n",
        "y_tess_pred = tess_df['Exoplanet_Prediction']\n",
        "\n",
        "print(\"\\n--- Model Performance on TESS Data---\")\n",
        "print(f\"Accuracy: {accuracy_score(y_tess_true, y_tess_pred):.4f}\")\n",
        "print(f\"Precision: {precision_score(y_tess_true, y_tess_pred):.4f}\")\n",
        "print(f\"Recall: {recall_score(y_tess_true, y_tess_pred):.4f}\")\n",
        "print(f\"F1-Score: {f1_score(y_tess_true, y_tess_pred):.4f}\")\n",
        "\n",
        "# Save the predictions to CSV\n",
        "tess_predictions_output = tess_df[['toi', 'tfopwg_disp', 'TESS_Flag', 'Exoplanet_Prediction']]\n",
        "tess_predictions_output.to_csv('tess_predictions.csv', index=False)\n",
        "print(\"\\nFinal TESS predictions are saved to 'tess_predictions.csv'\")\n",
        "\n",
        "# Display a sample of predictions\n",
        "print(\"\\nSample TESS Predictions vs. TESS Dispositions:\")\n",
        "print(tess_predictions_output.head(10))"
      ],
      "metadata": {
        "colab": {
          "base_uri": "https://localhost:8080/"
        },
        "id": "EKZoLWAktkRT",
        "outputId": "c5e0b8cf-9c70-4527-e710-8b58722b24d7"
      },
      "execution_count": 24,
      "outputs": [
        {
          "output_type": "stream",
          "name": "stdout",
          "text": [
            "\n",
            "--- Model Performance on TESS Data---\n",
            "Accuracy: 0.6152\n",
            "Precision: 0.8619\n",
            "Recall: 0.5972\n",
            "F1-Score: 0.7055\n",
            "\n",
            "Final TESS predictions are saved to 'tess_predictions.csv'\n",
            "\n",
            "Sample TESS Predictions vs. TESS Dispositions:\n",
            "       toi tfopwg_disp  TESS_Flag  Exoplanet_Prediction\n",
            "0  1000.01          FP          0                     0\n",
            "1  1001.01          PC          1                     0\n",
            "2  1002.01          FP          0                     0\n",
            "3  1003.01          FP          0                     0\n",
            "4  1004.01          FP          0                     0\n",
            "5  1005.01          FP          0                     1\n",
            "6  1006.01          FP          0                     0\n",
            "7  1007.01          PC          1                     0\n",
            "8  1008.01          FP          0                     0\n",
            "9  1009.01          PC          1                     0\n"
          ]
        },
        {
          "output_type": "stream",
          "name": "stderr",
          "text": [
            "/usr/local/lib/python3.12/dist-packages/sklearn/utils/validation.py:2732: UserWarning: X has feature names, but RandomForestClassifier was fitted without feature names\n",
            "  warnings.warn(\n"
          ]
        }
      ]
    },
    {
      "cell_type": "code",
      "source": [],
      "metadata": {
        "id": "Pv3m3SQq9mco"
      },
      "execution_count": null,
      "outputs": []
    }
  ]
}